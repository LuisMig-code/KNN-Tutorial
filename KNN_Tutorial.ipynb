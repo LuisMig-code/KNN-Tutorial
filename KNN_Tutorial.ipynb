{
  "nbformat": 4,
  "nbformat_minor": 0,
  "metadata": {
    "colab": {
      "name": "KNN-Tutorial.ipynb",
      "provenance": [],
      "collapsed_sections": [],
      "authorship_tag": "ABX9TyPKR9GtvLw7hWPRlPs7fHAi",
      "include_colab_link": true
    },
    "kernelspec": {
      "name": "python3",
      "display_name": "Python 3"
    },
    "language_info": {
      "name": "python"
    }
  },
  "cells": [
    {
      "cell_type": "markdown",
      "metadata": {
        "id": "view-in-github",
        "colab_type": "text"
      },
      "source": [
        "<a href=\"https://colab.research.google.com/github/LuisMig-code/KNN-Tutorial/blob/main/KNN_Tutorial.ipynb\" target=\"_parent\"><img src=\"https://colab.research.google.com/assets/colab-badge.svg\" alt=\"Open In Colab\"/></a>"
      ]
    },
    {
      "cell_type": "markdown",
      "metadata": {
        "id": "YIePlC2Dyd4k"
      },
      "source": [
        "# KNN - K Nearest Neighbor\n",
        "## KNeighborsClassifier"
      ]
    },
    {
      "cell_type": "markdown",
      "metadata": {
        "id": "WXZGCcQqzp0S"
      },
      "source": [
        "No artigo de hoje iremos debater sobre o KNN (algo como *K Vizinhos mais próximos*), aqui iremos **analisar seu funcionamento** em um exmplo prático! Aqui iremos usar o **KNeighborsClassifier** para fazer classificações em um projeto de *Data Science* do Zero. "
      ]
    },
    {
      "cell_type": "markdown",
      "metadata": {
        "id": "g33JbJLT0kyY"
      },
      "source": [
        "<img src=\"https://images.pexels.com/photos/164338/pexels-photo-164338.jpeg?auto=compress&cs=tinysrgb&dpr=1&w=500\" width=600>"
      ]
    },
    {
      "cell_type": "markdown",
      "metadata": {
        "id": "Km2GJHgw06BL"
      },
      "source": [
        "## Como funciona?"
      ]
    },
    {
      "cell_type": "markdown",
      "metadata": {
        "id": "lt15SoKT09zK"
      },
      "source": [
        "Para entendermos o **KNN** temos de ter noção um ***conceito de vizinhança***."
      ]
    },
    {
      "cell_type": "markdown",
      "metadata": {
        "id": "g1Mbupya1ozb"
      },
      "source": [
        "Em tese , o que entendemos por vizinhança é um aglomerado de casas/pessoas que moram em determinada rua próximo a nossa casa, em senso comum é isso que entendesse."
      ]
    },
    {
      "cell_type": "markdown",
      "metadata": {
        "id": "zU3biAC02Z1h"
      },
      "source": [
        "Em Matemática/Física o conceito de vizinhança trata-se de uma **região que faz fronteira ou rodeia um sistema**. Sendo que o termo \"região\" pode se referir a um **conjunto de dados com características comuns**\n",
        "\n",
        "*Esse conceito é importante quando falamos agrupamentos em dados não supervisionados*"
      ]
    },
    {
      "cell_type": "markdown",
      "metadata": {
        "id": "5ZmgDhRF3m1D"
      },
      "source": [
        "Imaginando essa ideia , podemos gerar algoritmos (tanto de classificação quanto de regressão) que agrupem nossos dados mediante \"*o quão próximos eles são*\". **A ideia do KNN , no geral , é criar vizinhanças a partir dos nossos dados**, repondendo perguntas como:\n",
        "\n",
        "- **A amostra X tem características em comum com a amostra Y ?**\n",
        "- **O quão diferentes a amostra X e Y são ?**\n",
        "- **O que falta em X para ser próximo a Y ?**"
      ]
    },
    {
      "cell_type": "markdown",
      "metadata": {
        "id": "GQTRXJC14XQo"
      },
      "source": [
        "## Funcionamento prático:"
      ]
    },
    {
      "cell_type": "markdown",
      "metadata": {
        "id": "d3G1i4Qk4b-V"
      },
      "source": [
        "Agora que temos a noção teórica de como ele funciona , chegou a hora de ver ele funcionando de fato! "
      ]
    },
    {
      "cell_type": "markdown",
      "metadata": {
        "id": "djOUak3_40d1"
      },
      "source": [
        "<img src=\"https://cdn.analyticsvidhya.com/wp-content/uploads/2018/03/knn3-768x694.png\" width=350>"
      ]
    },
    {
      "cell_type": "markdown",
      "metadata": {
        "id": "0gN03o9D47DV"
      },
      "source": [
        "Vamos começar com um exercício de imaginação! Imaginemos que temos um conjunto de dados dividido em duas classes (quadrados e triângulos) . A partir de uma determinado amostra temos de definir qual a classificação dela. **Como o KNClassifier faria isso?**"
      ]
    },
    {
      "cell_type": "markdown",
      "metadata": {
        "id": "idu7-PtI5hV2"
      },
      "source": [
        "- **Vamos tentar aplicar o conceito de vizinhança:**"
      ]
    },
    {
      "cell_type": "markdown",
      "metadata": {
        "id": "3kGHeCZ65tkQ"
      },
      "source": [
        "*Será que esta nossa amostra é mais próxima a quadrado ou a triângulo?*"
      ]
    },
    {
      "cell_type": "markdown",
      "metadata": {
        "id": "Iry-sI-050dK"
      },
      "source": [
        "Basta usarmos as features(variáveis explicativas) que temos em nosso conjunto e notar as semelhanças e padrões nas labels e em nossa amostra. Normnalmente usa-se gráficos e funções lineares para encontrar esses padrões. "
      ]
    },
    {
      "cell_type": "markdown",
      "metadata": {
        "id": "3fI78ZKL6Bkn"
      },
      "source": [
        "- **Feito isso chegou ahora de definir o quão grande será nossa vizinhança:**"
      ]
    },
    {
      "cell_type": "markdown",
      "metadata": {
        "id": "POIaxpbj6XUn"
      },
      "source": [
        "Vamos determinar um **número K de vizinhos** que queremos para nossa vizinhança. Iremos começar com 3! "
      ]
    },
    {
      "cell_type": "markdown",
      "metadata": {
        "id": "eIQz3uzq6uYB"
      },
      "source": [
        "Com esse número veremos os **3 vizinhos** (*amostras mais semelhantes*) que temos da nossa amostra de testagem. No caso da imagem , definido o número de 3 , nota-se que existem **2 amostras classificadas como triângulo e 1 classificada como quadrado** ."
      ]
    },
    {
      "cell_type": "markdown",
      "metadata": {
        "id": "R6qsw9Ti7FnK"
      },
      "source": [
        "Como o número de labels \"triângulo\" é superior aos \"quadrados\" , dizemos que nossa amostra de testagem será classificado como triângulo , **visto que é o que mais aparece.**"
      ]
    },
    {
      "cell_type": "markdown",
      "metadata": {
        "id": "z199eaa38Cvj"
      },
      "source": [
        "- **Mas e para mais vizinhos?**"
      ]
    },
    {
      "cell_type": "markdown",
      "metadata": {
        "id": "gR7oBO6j8H0V"
      },
      "source": [
        "Vimos que para 3 vizinhos temos um determinado resultado. O que acontece se usarmos agora *5 vizinhos*?"
      ]
    },
    {
      "cell_type": "markdown",
      "metadata": {
        "id": "uXHv7vrN8PNo"
      },
      "source": [
        "Podemos ver que **quando aumentamos o número de vizinhos aumenta as possíveis classificações** e para esta nova situação temos 3 amostras classificadas como \"quadrado\" e 2 como \"triângulos\""
      ]
    },
    {
      "cell_type": "markdown",
      "metadata": {
        "id": "AhVO2bKP8aj6"
      },
      "source": [
        "**Portanto , para esta situação teremos que a amostra de testagem será agora quadrado , dado que é a que mais aparece!** "
      ]
    },
    {
      "cell_type": "markdown",
      "metadata": {
        "id": "BsjxPASg93HK"
      },
      "source": [
        "Outro exemplo gráfico:\n",
        "\n",
        "<img src=\"https://helloacm.com/wp-content/uploads/2016/03/2012-10-26-knn-concept.png\" width=600>"
      ]
    },
    {
      "cell_type": "markdown",
      "metadata": {
        "id": "hfozg9Mm81Fb"
      },
      "source": [
        "## Quando e Por que utilizar o KNN (no geral):"
      ]
    },
    {
      "cell_type": "markdown",
      "metadata": {
        "id": "ZmjHy7D48_Oc"
      },
      "source": [
        "**Por que ?**\n",
        "\n",
        "Além de ser um bom algoritmo (para as distintas utilizades) , com resultados bons , **ele é também muito leve** , não sendo tão caro no quesito de processamento e bem **facil de se entender**."
      ]
    },
    {
      "cell_type": "markdown",
      "metadata": {
        "id": "7zBqwK049kbL"
      },
      "source": [
        "**Quando?**\n",
        "\n",
        "O KNN é muito bom quando se trata de dados numéricos em suas variáveis explicativas "
      ]
    },
    {
      "cell_type": "markdown",
      "metadata": {
        "id": "o-XQLpJ7-D7G"
      },
      "source": [
        "## Aplicação em um projeto prático:"
      ]
    },
    {
      "cell_type": "markdown",
      "metadata": {
        "id": "fwZkFmuo_0ss"
      },
      "source": [
        "<img src=\"https://image.freepik.com/free-vector/scientists-studying-neural-connections-programmers-writing-codes-machine-brain_74855-14157.jpg\" width=500>"
      ]
    },
    {
      "cell_type": "markdown",
      "metadata": {
        "id": "9i3idXp--H_X"
      },
      "source": [
        "Agora que já entendemos o funcionamento geral do KNN , chegou a hora de aplicá-lo na vida real. Para este caso usarei o KNeighborsClassifier,um classificador baseado no conceito de KNN."
      ]
    },
    {
      "cell_type": "markdown",
      "metadata": {
        "id": "twUJNkY8-aK-"
      },
      "source": [
        "Para além dele existem **métricas de Regressões Linear** (*KNeighborsRegressor*) e usos em **Aprendizado não supervisionado** (*KMeans*)"
      ]
    },
    {
      "cell_type": "markdown",
      "metadata": {
        "id": "R813FUyk-wEY"
      },
      "source": [
        "Vamos começar importando as bibliotecas usadas no projeto:"
      ]
    },
    {
      "cell_type": "code",
      "metadata": {
        "id": "rEGPxAV6ynjX"
      },
      "source": [
        "import pandas as pd\n",
        "import seaborn as sns\n",
        "import matplotlib.pyplot as plt\n",
        "import datetime as dt\n",
        "import numpy as np\n",
        "import warnings\n",
        "warnings.filterwarnings('ignore')\n",
        "%matplotlib inline\n",
        "\n",
        "from sklearn.neighbors import KNeighborsClassifier\n",
        "\n",
        "from sklearn.metrics import accuracy_score\n",
        "from sklearn.metrics import classification_report\n",
        "\n",
        "from sklearn.model_selection import GridSearchCV\n",
        "\n",
        "from sklearn.model_selection import StratifiedKFold\n",
        "from sklearn.model_selection import cross_validate"
      ],
      "execution_count": null,
      "outputs": []
    },
    {
      "cell_type": "markdown",
      "metadata": {
        "id": "y0IgkMs--8aM"
      },
      "source": [
        "**Para nosso estudo vou me abster de explicar cada ação , estou imaginando que você já saiba o básico em Machine Learning e algumas ações** "
      ]
    },
    {
      "cell_type": "code",
      "metadata": {
        "id": "tFS9IHY_-562"
      },
      "source": [
        "# lendo nossos conjunto de dados:\n",
        "path_test = \"https://raw.githubusercontent.com/LuisMig-code/KNN-Tutorial/main/ESRB/test_esrb.csv?raw=true\"\n",
        "path_treino = \"https://raw.githubusercontent.com/LuisMig-code/KNN-Tutorial/main/ESRB/Video_games_esrb_rating.csv?raw=true\"\n",
        "\n",
        "treino = pd.read_csv(path_treino)\n",
        "teste = pd.read_csv(path_test)"
      ],
      "execution_count": null,
      "outputs": []
    },
    {
      "cell_type": "code",
      "metadata": {
        "colab": {
          "base_uri": "https://localhost:8080/",
          "height": 277
        },
        "id": "RVLeGp9wAzsa",
        "outputId": "edd12141-2d5d-4ddc-984b-ecec006cb54b"
      },
      "source": [
        "# vamos visualizar as 5 primeiras entradas do Dataset de treino:\n",
        "treino.head()"
      ],
      "execution_count": null,
      "outputs": [
        {
          "output_type": "execute_result",
          "data": {
            "text/html": [
              "<div>\n",
              "<style scoped>\n",
              "    .dataframe tbody tr th:only-of-type {\n",
              "        vertical-align: middle;\n",
              "    }\n",
              "\n",
              "    .dataframe tbody tr th {\n",
              "        vertical-align: top;\n",
              "    }\n",
              "\n",
              "    .dataframe thead th {\n",
              "        text-align: right;\n",
              "    }\n",
              "</style>\n",
              "<table border=\"1\" class=\"dataframe\">\n",
              "  <thead>\n",
              "    <tr style=\"text-align: right;\">\n",
              "      <th></th>\n",
              "      <th>title</th>\n",
              "      <th>console</th>\n",
              "      <th>alcohol_reference</th>\n",
              "      <th>animated_blood</th>\n",
              "      <th>blood</th>\n",
              "      <th>blood_and_gore</th>\n",
              "      <th>cartoon_violence</th>\n",
              "      <th>crude_humor</th>\n",
              "      <th>drug_reference</th>\n",
              "      <th>fantasy_violence</th>\n",
              "      <th>intense_violence</th>\n",
              "      <th>language</th>\n",
              "      <th>lyrics</th>\n",
              "      <th>mature_humor</th>\n",
              "      <th>mild_blood</th>\n",
              "      <th>mild_cartoon_violence</th>\n",
              "      <th>mild_fantasy_violence</th>\n",
              "      <th>mild_language</th>\n",
              "      <th>mild_lyrics</th>\n",
              "      <th>mild_suggestive_themes</th>\n",
              "      <th>mild_violence</th>\n",
              "      <th>no_descriptors</th>\n",
              "      <th>nudity</th>\n",
              "      <th>partial_nudity</th>\n",
              "      <th>sexual_content</th>\n",
              "      <th>sexual_themes</th>\n",
              "      <th>simulated_gambling</th>\n",
              "      <th>strong_janguage</th>\n",
              "      <th>strong_sexual_content</th>\n",
              "      <th>suggestive_themes</th>\n",
              "      <th>use_of_alcohol</th>\n",
              "      <th>use_of_drugs_and_alcohol</th>\n",
              "      <th>violence</th>\n",
              "      <th>esrb_rating</th>\n",
              "    </tr>\n",
              "  </thead>\n",
              "  <tbody>\n",
              "    <tr>\n",
              "      <th>0</th>\n",
              "      <td>Monster Jam Steel Titans 2</td>\n",
              "      <td>1</td>\n",
              "      <td>0</td>\n",
              "      <td>0</td>\n",
              "      <td>0</td>\n",
              "      <td>0</td>\n",
              "      <td>0</td>\n",
              "      <td>0</td>\n",
              "      <td>0</td>\n",
              "      <td>0</td>\n",
              "      <td>0</td>\n",
              "      <td>0</td>\n",
              "      <td>0</td>\n",
              "      <td>0</td>\n",
              "      <td>0</td>\n",
              "      <td>0</td>\n",
              "      <td>0</td>\n",
              "      <td>0</td>\n",
              "      <td>0</td>\n",
              "      <td>0</td>\n",
              "      <td>0</td>\n",
              "      <td>1</td>\n",
              "      <td>0</td>\n",
              "      <td>0</td>\n",
              "      <td>0</td>\n",
              "      <td>0</td>\n",
              "      <td>0</td>\n",
              "      <td>0</td>\n",
              "      <td>0</td>\n",
              "      <td>0</td>\n",
              "      <td>0</td>\n",
              "      <td>0</td>\n",
              "      <td>0</td>\n",
              "      <td>E</td>\n",
              "    </tr>\n",
              "    <tr>\n",
              "      <th>1</th>\n",
              "      <td>Subnautica: Below Zero</td>\n",
              "      <td>1</td>\n",
              "      <td>0</td>\n",
              "      <td>1</td>\n",
              "      <td>0</td>\n",
              "      <td>0</td>\n",
              "      <td>0</td>\n",
              "      <td>0</td>\n",
              "      <td>0</td>\n",
              "      <td>0</td>\n",
              "      <td>1</td>\n",
              "      <td>0</td>\n",
              "      <td>0</td>\n",
              "      <td>0</td>\n",
              "      <td>0</td>\n",
              "      <td>0</td>\n",
              "      <td>0</td>\n",
              "      <td>0</td>\n",
              "      <td>0</td>\n",
              "      <td>1</td>\n",
              "      <td>0</td>\n",
              "      <td>0</td>\n",
              "      <td>0</td>\n",
              "      <td>0</td>\n",
              "      <td>0</td>\n",
              "      <td>0</td>\n",
              "      <td>0</td>\n",
              "      <td>0</td>\n",
              "      <td>0</td>\n",
              "      <td>0</td>\n",
              "      <td>0</td>\n",
              "      <td>0</td>\n",
              "      <td>0</td>\n",
              "      <td>ET</td>\n",
              "    </tr>\n",
              "    <tr>\n",
              "      <th>2</th>\n",
              "      <td>NIER REPLICANT VER.1.22474487139…</td>\n",
              "      <td>1</td>\n",
              "      <td>0</td>\n",
              "      <td>0</td>\n",
              "      <td>1</td>\n",
              "      <td>0</td>\n",
              "      <td>0</td>\n",
              "      <td>0</td>\n",
              "      <td>0</td>\n",
              "      <td>0</td>\n",
              "      <td>0</td>\n",
              "      <td>0</td>\n",
              "      <td>0</td>\n",
              "      <td>0</td>\n",
              "      <td>0</td>\n",
              "      <td>0</td>\n",
              "      <td>0</td>\n",
              "      <td>0</td>\n",
              "      <td>0</td>\n",
              "      <td>0</td>\n",
              "      <td>0</td>\n",
              "      <td>0</td>\n",
              "      <td>0</td>\n",
              "      <td>0</td>\n",
              "      <td>0</td>\n",
              "      <td>0</td>\n",
              "      <td>0</td>\n",
              "      <td>1</td>\n",
              "      <td>0</td>\n",
              "      <td>1</td>\n",
              "      <td>0</td>\n",
              "      <td>0</td>\n",
              "      <td>0</td>\n",
              "      <td>M</td>\n",
              "    </tr>\n",
              "    <tr>\n",
              "      <th>3</th>\n",
              "      <td>Jamestown+</td>\n",
              "      <td>0</td>\n",
              "      <td>0</td>\n",
              "      <td>0</td>\n",
              "      <td>0</td>\n",
              "      <td>0</td>\n",
              "      <td>0</td>\n",
              "      <td>0</td>\n",
              "      <td>0</td>\n",
              "      <td>1</td>\n",
              "      <td>0</td>\n",
              "      <td>1</td>\n",
              "      <td>0</td>\n",
              "      <td>0</td>\n",
              "      <td>1</td>\n",
              "      <td>0</td>\n",
              "      <td>0</td>\n",
              "      <td>0</td>\n",
              "      <td>0</td>\n",
              "      <td>0</td>\n",
              "      <td>0</td>\n",
              "      <td>0</td>\n",
              "      <td>0</td>\n",
              "      <td>0</td>\n",
              "      <td>0</td>\n",
              "      <td>0</td>\n",
              "      <td>0</td>\n",
              "      <td>0</td>\n",
              "      <td>0</td>\n",
              "      <td>0</td>\n",
              "      <td>0</td>\n",
              "      <td>0</td>\n",
              "      <td>0</td>\n",
              "      <td>ET</td>\n",
              "    </tr>\n",
              "    <tr>\n",
              "      <th>4</th>\n",
              "      <td>Neptunia Virtual Stars</td>\n",
              "      <td>0</td>\n",
              "      <td>0</td>\n",
              "      <td>0</td>\n",
              "      <td>0</td>\n",
              "      <td>0</td>\n",
              "      <td>0</td>\n",
              "      <td>0</td>\n",
              "      <td>0</td>\n",
              "      <td>1</td>\n",
              "      <td>0</td>\n",
              "      <td>1</td>\n",
              "      <td>0</td>\n",
              "      <td>0</td>\n",
              "      <td>0</td>\n",
              "      <td>0</td>\n",
              "      <td>0</td>\n",
              "      <td>0</td>\n",
              "      <td>0</td>\n",
              "      <td>0</td>\n",
              "      <td>0</td>\n",
              "      <td>0</td>\n",
              "      <td>0</td>\n",
              "      <td>0</td>\n",
              "      <td>0</td>\n",
              "      <td>0</td>\n",
              "      <td>0</td>\n",
              "      <td>0</td>\n",
              "      <td>0</td>\n",
              "      <td>1</td>\n",
              "      <td>0</td>\n",
              "      <td>0</td>\n",
              "      <td>0</td>\n",
              "      <td>T</td>\n",
              "    </tr>\n",
              "  </tbody>\n",
              "</table>\n",
              "</div>"
            ],
            "text/plain": [
              "                               title  console  ...  violence  esrb_rating\n",
              "0         Monster Jam Steel Titans 2        1  ...         0            E\n",
              "1             Subnautica: Below Zero        1  ...         0           ET\n",
              "2  NIER REPLICANT VER.1.22474487139…        1  ...         0            M\n",
              "3                         Jamestown+        0  ...         0           ET\n",
              "4             Neptunia Virtual Stars        0  ...         0            T\n",
              "\n",
              "[5 rows x 34 columns]"
            ]
          },
          "metadata": {
            "tags": []
          },
          "execution_count": 4
        }
      ]
    },
    {
      "cell_type": "code",
      "metadata": {
        "colab": {
          "base_uri": "https://localhost:8080/"
        },
        "id": "My8SCM_h_fMi",
        "outputId": "1871a121-9d95-462e-f60c-f26405520083"
      },
      "source": [
        "# checando se temos dados nulos para o conjunto de treino:\n",
        "treino.isnull().sum()"
      ],
      "execution_count": null,
      "outputs": [
        {
          "output_type": "execute_result",
          "data": {
            "text/plain": [
              "title                       0\n",
              "console                     0\n",
              "alcohol_reference           0\n",
              "animated_blood              0\n",
              "blood                       0\n",
              "blood_and_gore              0\n",
              "cartoon_violence            0\n",
              "crude_humor                 0\n",
              "drug_reference              0\n",
              "fantasy_violence            0\n",
              "intense_violence            0\n",
              "language                    0\n",
              "lyrics                      0\n",
              "mature_humor                0\n",
              "mild_blood                  0\n",
              "mild_cartoon_violence       0\n",
              "mild_fantasy_violence       0\n",
              "mild_language               0\n",
              "mild_lyrics                 0\n",
              "mild_suggestive_themes      0\n",
              "mild_violence               0\n",
              "no_descriptors              0\n",
              "nudity                      0\n",
              "partial_nudity              0\n",
              "sexual_content              0\n",
              "sexual_themes               0\n",
              "simulated_gambling          0\n",
              "strong_janguage             0\n",
              "strong_sexual_content       0\n",
              "suggestive_themes           0\n",
              "use_of_alcohol              0\n",
              "use_of_drugs_and_alcohol    0\n",
              "violence                    0\n",
              "esrb_rating                 0\n",
              "dtype: int64"
            ]
          },
          "metadata": {
            "tags": []
          },
          "execution_count": 5
        }
      ]
    },
    {
      "cell_type": "code",
      "metadata": {
        "colab": {
          "base_uri": "https://localhost:8080/"
        },
        "id": "J5xOJYy4AVIM",
        "outputId": "da3aac56-2d3a-42d7-9274-164345d67e1e"
      },
      "source": [
        "# checando se temos dados nulos para o conjunto de teste:\n",
        "teste.isnull().sum()"
      ],
      "execution_count": null,
      "outputs": [
        {
          "output_type": "execute_result",
          "data": {
            "text/plain": [
              "title                       0\n",
              "console                     0\n",
              "alcohol_reference           0\n",
              "animated_blood              0\n",
              "blood                       0\n",
              "blood_and_gore              0\n",
              "cartoon_violence            0\n",
              "crude_humor                 0\n",
              "drug_reference              0\n",
              "fantasy_violence            0\n",
              "intense_violence            0\n",
              "language                    0\n",
              "lyrics                      0\n",
              "mature_humor                0\n",
              "mild_blood                  0\n",
              "mild_cartoon_violence       0\n",
              "mild_fantasy_violence       0\n",
              "mild_language               0\n",
              "mild_lyrics                 0\n",
              "mild_suggestive_themes      0\n",
              "mild_violence               0\n",
              "no_descriptors              0\n",
              "nudity                      0\n",
              "partial_nudity              0\n",
              "sexual_content              0\n",
              "sexual_themes               0\n",
              "simulated_gambling          0\n",
              "strong_janguage             0\n",
              "strong_sexual_content       0\n",
              "suggestive_themes           0\n",
              "use_of_alcohol              0\n",
              "use_of_drugs_and_alcohol    0\n",
              "violence                    0\n",
              "esrb_rating                 0\n",
              "dtype: int64"
            ]
          },
          "metadata": {
            "tags": []
          },
          "execution_count": 6
        }
      ]
    },
    {
      "cell_type": "markdown",
      "metadata": {
        "id": "-3TK0citCprc"
      },
      "source": [
        "É importante que saibamos a proporção da nossa variável alvo (aquela que queremos fazer a predição) , ou seja , q quantidade que temos dela nos dados de treino e nos dados de teste:"
      ]
    },
    {
      "cell_type": "code",
      "metadata": {
        "colab": {
          "base_uri": "https://localhost:8080/",
          "height": 286
        },
        "id": "mz0b-nTtC5hl",
        "outputId": "ad30bdec-ec4f-414e-d803-d8953ab77052"
      },
      "source": [
        "# para os dados de treino:\n",
        "treino.esrb_rating.value_counts().plot(kind=\"bar\")"
      ],
      "execution_count": null,
      "outputs": [
        {
          "output_type": "execute_result",
          "data": {
            "text/plain": [
              "<matplotlib.axes._subplots.AxesSubplot at 0x7fab4619db50>"
            ]
          },
          "metadata": {
            "tags": []
          },
          "execution_count": 7
        },
        {
          "output_type": "display_data",
          "data": {
            "image/png": "[encoded data removed]",
            "text/plain": [
              "<Figure size 432x288 with 1 Axes>"
            ]
          },
          "metadata": {
            "tags": [],
            "needs_background": "light"
          }
        }
      ]
    },
    {
      "cell_type": "code",
      "metadata": {
        "colab": {
          "base_uri": "https://localhost:8080/",
          "height": 286
        },
        "id": "rq1_6omhAeOS",
        "outputId": "4185b9a7-5abb-44cd-8725-a4466ca20d7e"
      },
      "source": [
        "# para os dados de teste:\n",
        "teste.esrb_rating.value_counts().plot(kind=\"bar\")"
      ],
      "execution_count": null,
      "outputs": [
        {
          "output_type": "execute_result",
          "data": {
            "text/plain": [
              "<matplotlib.axes._subplots.AxesSubplot at 0x7fab46081ed0>"
            ]
          },
          "metadata": {
            "tags": []
          },
          "execution_count": 8
        },
        {
          "output_type": "display_data",
          "data": {
            "image/png": "[encoded data removed]",
            "text/plain": [
              "<Figure size 432x288 with 1 Axes>"
            ]
          },
          "metadata": {
            "tags": [],
            "needs_background": "light"
          }
        }
      ]
    },
    {
      "cell_type": "markdown",
      "metadata": {
        "id": "LjkVUdF6DSnq"
      },
      "source": [
        "Agrupando os dados em dados de **X(features usadas para fazer as predições)** e **y(variável a ser predita)**."
      ]
    },
    {
      "cell_type": "code",
      "metadata": {
        "id": "MbTnwNpmFa9_"
      },
      "source": [
        "X_treino = treino.drop([\"title\",\"esrb_rating\"] , axis=1)\n",
        "y_treino = treino[\"esrb_rating\"]\n",
        "X_teste =  teste.drop([\"title\",\"esrb_rating\"] , axis=1)\n",
        "y_teste = teste[\"esrb_rating\"]"
      ],
      "execution_count": null,
      "outputs": []
    },
    {
      "cell_type": "markdown",
      "metadata": {
        "id": "Xllnz9kMDt41"
      },
      "source": [
        "Agora é a hora de criar o modelo:"
      ]
    },
    {
      "cell_type": "code",
      "metadata": {
        "id": "MQFMVC__DEyp"
      },
      "source": [
        "# instanciando o modelo:\n",
        "modelo = KNeighborsClassifier(n_neighbors=3)"
      ],
      "execution_count": null,
      "outputs": []
    },
    {
      "cell_type": "code",
      "metadata": {
        "colab": {
          "base_uri": "https://localhost:8080/"
        },
        "id": "T8-FmqlXEZik",
        "outputId": "6edb8e63-b90b-49b3-f23a-3573a87513e5"
      },
      "source": [
        "# \"treinando o modelo\":\n",
        "modelo.fit(X_treino,y_treino)"
      ],
      "execution_count": null,
      "outputs": [
        {
          "output_type": "execute_result",
          "data": {
            "text/plain": [
              "KNeighborsClassifier(algorithm='auto', leaf_size=30, metric='minkowski',\n",
              "                     metric_params=None, n_jobs=None, n_neighbors=3, p=2,\n",
              "                     weights='uniform')"
            ]
          },
          "metadata": {
            "tags": []
          },
          "execution_count": 11
        }
      ]
    },
    {
      "cell_type": "code",
      "metadata": {
        "id": "q1NwEROJFFXq"
      },
      "source": [
        "# fazendo predições com o modelo criado:\n",
        "predicoes = modelo.predict(X_teste)"
      ],
      "execution_count": null,
      "outputs": []
    },
    {
      "cell_type": "code",
      "metadata": {
        "colab": {
          "base_uri": "https://localhost:8080/"
        },
        "id": "waZ-TUTfF6Rh",
        "outputId": "c6821f68-dde1-4ae1-ef81-462ca7357a54"
      },
      "source": [
        "# mediando a precisão do modelo:\n",
        "acuracia = accuracy_score(y_teste , predicoes)\n",
        "\n",
        "print(\"Acurácia : {}\".format(round(acuracia*100,4)))\n",
        "print(classification_report(y_teste , predicoes))"
      ],
      "execution_count": null,
      "outputs": [
        {
          "output_type": "stream",
          "text": [
            "Acurácia : 80.8\n",
            "              precision    recall  f1-score   support\n",
            "\n",
            "           E       0.80      0.98      0.88       100\n",
            "          ET       0.81      0.79      0.80       126\n",
            "           M       0.93      0.69      0.79        90\n",
            "           T       0.77      0.79      0.78       184\n",
            "\n",
            "    accuracy                           0.81       500\n",
            "   macro avg       0.83      0.81      0.81       500\n",
            "weighted avg       0.81      0.81      0.81       500\n",
            "\n"
          ],
          "name": "stdout"
        }
      ]
    },
    {
      "cell_type": "markdown",
      "metadata": {
        "id": "bcVY4tkfICkH"
      },
      "source": [
        "De maneira geral tivemos um bom resultado , com excessão da classificação \"T\" obtivemos precisões relativamente boas."
      ]
    },
    {
      "cell_type": "markdown",
      "metadata": {
        "id": "p4I3AQAsIUA4"
      },
      "source": [
        "Vamos usar o GridSearch para saber qual o melhor número de vizinhos:"
      ]
    },
    {
      "cell_type": "code",
      "metadata": {
        "id": "7l0ODixy-B5F"
      },
      "source": [
        "k_list = list(range(1,61))\n",
        "\n",
        "k_values = dict(n_neighbors=k_list)"
      ],
      "execution_count": null,
      "outputs": []
    },
    {
      "cell_type": "code",
      "metadata": {
        "id": "8OnK5AxX-web"
      },
      "source": [
        "grid = GridSearchCV(modelo , k_values, cv=6, scoring='accuracy')"
      ],
      "execution_count": null,
      "outputs": []
    },
    {
      "cell_type": "code",
      "metadata": {
        "colab": {
          "base_uri": "https://localhost:8080/"
        },
        "id": "Arei6WYd-8Zd",
        "outputId": "d3f7bf44-7cca-4367-e03d-67a863fb706a"
      },
      "source": [
        "grid.fit(pd.concat([X_treino,X_teste]) , pd.concat([y_treino,y_teste]))"
      ],
      "execution_count": null,
      "outputs": [
        {
          "output_type": "execute_result",
          "data": {
            "text/plain": [
              "GridSearchCV(cv=6, error_score=nan,\n",
              "             estimator=KNeighborsClassifier(algorithm='auto', leaf_size=30,\n",
              "                                            metric='minkowski',\n",
              "                                            metric_params=None, n_jobs=None,\n",
              "                                            n_neighbors=3, p=2,\n",
              "                                            weights='uniform'),\n",
              "             iid='deprecated', n_jobs=None,\n",
              "             param_grid={'n_neighbors': [1, 2, 3, 4, 5, 6, 7, 8, 9, 10, 11, 12,\n",
              "                                         13, 14, 15, 16, 17, 18, 19, 20, 21, 22,\n",
              "                                         23, 24, 25, 26, 27, 28, 29, 30, ...]},\n",
              "             pre_dispatch='2*n_jobs', refit=True, return_train_score=False,\n",
              "             scoring='accuracy', verbose=0)"
            ]
          },
          "metadata": {
            "tags": []
          },
          "execution_count": 16
        }
      ]
    },
    {
      "cell_type": "code",
      "metadata": {
        "colab": {
          "base_uri": "https://localhost:8080/"
        },
        "id": "aXT01ajHAWb5",
        "outputId": "fd9afc5b-a095-449b-a05b-856a17ce2916"
      },
      "source": [
        "print(\"Com os parâmetro: {} com o valor {} de acurácia\".format(grid.best_params_,grid.best_score_))"
      ],
      "execution_count": null,
      "outputs": [
        {
          "output_type": "stream",
          "text": [
            "Com os parâmetro: {'n_neighbors': 13} com o valor 0.809203216374269 de acurácia\n"
          ],
          "name": "stdout"
        }
      ]
    },
    {
      "cell_type": "markdown",
      "metadata": {
        "id": "GPGihp7OIxKn"
      },
      "source": [
        "No quesito de acurácia , o valor de N vizinhos que melhor se saiu (para a acurácia) é o 13. Vamos verificar como foi o resultado:"
      ]
    },
    {
      "cell_type": "code",
      "metadata": {
        "id": "IVqqLA5-7baw"
      },
      "source": [
        "modelo = KNeighborsClassifier(n_neighbors=13)"
      ],
      "execution_count": null,
      "outputs": []
    },
    {
      "cell_type": "code",
      "metadata": {
        "colab": {
          "base_uri": "https://localhost:8080/"
        },
        "id": "0KmUMbbf7dFL",
        "outputId": "b819f511-fe30-4a91-9158-1259e6f3e177"
      },
      "source": [
        "modelo.fit(X_treino,y_treino)"
      ],
      "execution_count": null,
      "outputs": [
        {
          "output_type": "execute_result",
          "data": {
            "text/plain": [
              "KNeighborsClassifier(algorithm='auto', leaf_size=30, metric='minkowski',\n",
              "                     metric_params=None, n_jobs=None, n_neighbors=13, p=2,\n",
              "                     weights='uniform')"
            ]
          },
          "metadata": {
            "tags": []
          },
          "execution_count": 19
        }
      ]
    },
    {
      "cell_type": "code",
      "metadata": {
        "id": "wSfoEZh_7hdi"
      },
      "source": [
        "predicoes = modelo.predict(X_teste)"
      ],
      "execution_count": null,
      "outputs": []
    },
    {
      "cell_type": "code",
      "metadata": {
        "colab": {
          "base_uri": "https://localhost:8080/"
        },
        "id": "ZD_7ktOM73KZ",
        "outputId": "ebe4cd73-e51b-4cbe-d06e-8f91d157335f"
      },
      "source": [
        "acuracia = accuracy_score(y_teste , predicoes)\n",
        "\n",
        "print(\"Acurácia : {}\".format(round(acuracia*100,4)))\n",
        "print(classification_report(y_teste , predicoes))"
      ],
      "execution_count": null,
      "outputs": [
        {
          "output_type": "stream",
          "text": [
            "Acurácia : 81.8\n",
            "              precision    recall  f1-score   support\n",
            "\n",
            "           E       0.84      0.97      0.90       100\n",
            "          ET       0.78      0.85      0.81       126\n",
            "           M       0.92      0.67      0.77        90\n",
            "           T       0.80      0.79      0.79       184\n",
            "\n",
            "    accuracy                           0.82       500\n",
            "   macro avg       0.83      0.82      0.82       500\n",
            "weighted avg       0.82      0.82      0.82       500\n",
            "\n"
          ],
          "name": "stdout"
        }
      ]
    },
    {
      "cell_type": "markdown",
      "metadata": {
        "id": "lP2_X6H1JGub"
      },
      "source": [
        "Podemos perceber que o resultado do n_vizinhos = 13 foi melhor para a acurácia , mas em âmbito geral , ele diminuiu a precisão da label \"*ET*\" e aumenta a \"*T*\""
      ]
    },
    {
      "cell_type": "markdown",
      "metadata": {
        "id": "PJMF4bUO18oE"
      },
      "source": [
        "A fim de verificar se de fato temos esse nível de acurácia , vamos usar o KFold para assegurar nosso resultado"
      ]
    },
    {
      "cell_type": "code",
      "metadata": {
        "id": "uhyi-syhiSrI"
      },
      "source": [
        "cv = StratifiedKFold(n_splits = 20 , shuffle=True)\n",
        "modelo = KNeighborsClassifier(n_neighbors = 13)\n",
        "results = cross_validate(modelo, X_treino, y_treino, cv = cv, return_train_score=False)"
      ],
      "execution_count": null,
      "outputs": []
    },
    {
      "cell_type": "code",
      "metadata": {
        "colab": {
          "base_uri": "https://localhost:8080/"
        },
        "id": "keZ6oREyrCRn",
        "outputId": "acbe9319-cfa0-443b-868d-02346f621e8a"
      },
      "source": [
        "np.mean(results[\"test_score\"])"
      ],
      "execution_count": null,
      "outputs": [
        {
          "output_type": "execute_result",
          "data": {
            "text/plain": [
              "0.8115621500559911"
            ]
          },
          "metadata": {
            "tags": []
          },
          "execution_count": 23
        }
      ]
    }
  ]
}